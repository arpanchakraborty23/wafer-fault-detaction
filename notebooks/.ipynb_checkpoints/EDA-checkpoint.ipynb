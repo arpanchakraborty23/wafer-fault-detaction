{
 "cells": [
  {
   "cell_type": "code",
   "execution_count": null,
   "id": "4864dbe3-0d89-4fec-b5ce-0a1093e01d95",
   "metadata": {},
   "outputs": [],
   "source": [
    "Ed"
   ]
  }
 ],
 "metadata": {
  "kernelspec": {
   "display_name": "Python 3 (ipykernel)",
   "language": "python",
   "name": "python3"
  },
  "language_info": {
   "codemirror_mode": {
    "name": "ipython",
    "version": 3
   },
   "file_extension": ".py",
   "mimetype": "text/x-python",
   "name": "python",
   "nbconvert_exporter": "python",
   "pygments_lexer": "ipython3",
   "version": "3.8.10"
  }
 },
 "nbformat": 4,
 "nbformat_minor": 5
}
